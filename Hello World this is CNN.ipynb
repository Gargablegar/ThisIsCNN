{
 "cells": [
  {
   "cell_type": "markdown",
   "metadata": {},
   "source": [
    "# Hello world\n",
    "Objectives of notebook:\n",
    "- learn to notebook with jupyter\n",
    "- explore the MNIST dataset\n",
    "- Impliment the following\n",
    " - Image pre cleaning \n",
    " - SVM from scipy\n",
    " - Tensorflow\n",
    "  - simple logistic regression\n",
    "  - Tensorflow more complex fully formed CNN\n",
    "  - Genetic Algorythm to tweak the hyperparamters of the above "
   ]
  },
  {
   "cell_type": "markdown",
   "metadata": {},
   "source": [
    "## References\n",
    "\n",
    "\n"
   ]
  },
  {
   "cell_type": "markdown",
   "metadata": {},
   "source": [
    "## This is 2nd heading in MD\n",
    "This is **s**ome stuff\n",
    "_This_ `is` **~~more~~** __stuff__\n",
    "\n",
    "### level 3 unlocked\n",
    "Quotes for days?\n",
    ">NP -Bro\n",
    "are\n",
    "- you\n",
    "- for \n",
    "  - real\n",
    "Also images\n",
    "![title](img/picture.png)\n",
    "\n",
    "\n",
    "\n"
   ]
  },
  {
   "cell_type": "code",
   "execution_count": 6,
   "metadata": {
    "scrolled": true
   },
   "outputs": [
    {
     "name": "stdout",
     "output_type": "stream",
     "text": [
      "Hello World you can run things inline with jupyter - cool!\n"
     ]
    }
   ],
   "source": [
    "print \"Hello World you can run things inline with jupyter - cool!\""
   ]
  },
  {
   "cell_type": "markdown",
   "metadata": {},
   "source": [
    "After looking on www.kaggle.com and seeing the MNIST notebooks, I figured it would be a good idea to try use the concept of note books to chare solutions and clearly outline how we are solving problems. \n",
    "\n",
    "\n"
   ]
  },
  {
   "cell_type": "code",
   "execution_count": null,
   "metadata": {},
   "outputs": [],
   "source": []
  },
  {
   "cell_type": "code",
   "execution_count": null,
   "metadata": {},
   "outputs": [],
   "source": []
  }
 ],
 "metadata": {
  "celltoolbar": "Slideshow",
  "kernelspec": {
   "display_name": "Python 2",
   "language": "python",
   "name": "python2"
  },
  "language_info": {
   "codemirror_mode": {
    "name": "ipython",
    "version": 2
   },
   "file_extension": ".py",
   "mimetype": "text/x-python",
   "name": "python",
   "nbconvert_exporter": "python",
   "pygments_lexer": "ipython2",
   "version": "2.7.13"
  }
 },
 "nbformat": 4,
 "nbformat_minor": 2
}
