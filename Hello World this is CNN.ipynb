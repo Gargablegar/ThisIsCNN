{
 "cells": [
  {
   "cell_type": "markdown",
   "metadata": {},
   "source": [
    "# Hello world\n",
    "Objectives of notebook:\n",
    "- learn to notebook with jupyter\n",
    "- explore the MNIST dataset\n",
    "- Impliment the following\n",
    " - Image pre cleaning \n",
    " - SVM from scipy\n",
    " - Tensorflow\n",
    "  - simple logistic regression\n",
    "  - Tensorflow more complex fully formed CNN\n",
    "   - Genetic Algorythm to tweak the hyperparamters of the above \n",
    "  - General Adverserial Network GAN\n",
    "   - Variational autoencoder\n",
    "  - I2A \n",
    "   - Give I2A more defined feature maps\n",
    "  - Interaction Networks\n",
    "   - Allocentric spacial networks\n",
    "   - Use model of "
   ]
  },
  {
   "cell_type": "markdown",
   "metadata": {},
   "source": [
    "## References\n",
    "Stanford CS notes on convolution nets (great visual walk through of convultion on a matrix in this context)\n",
    "- https://cs231n.github.io/convolutional-networks/\n",
    "\n",
    "Tensorflow tutorials on MNIST:\n",
    "- using estimator model https://www.tensorflow.org/tutorials/layers\n",
    "- Deeperstructure to tensorflow (and running on multiple GPUs) https://www.tensorflow.org/tutorials/deep_cnn\n",
    "- \n",
    "\n",
    "MNIST Highscores:\n",
    "http://rodrigob.github.io/are_we_there_yet/build/classification_datasets_results.html\n",
    "\n",
    "Siraj Videos on CNNs:\n",
    "- https://www.youtube.com/watch?v=FTr3n7uBIuE\n",
    "\n",
    "Tutorial on NN and Tensorflow\n",
    "- https://beckernick.github.io/neural-network-scratch/\n",
    "\n",
    "Better work through of lenet\n",
    "- https://ujjwalkarn.me/2016/08/11/intuitive-explanation-convnets/\n",
    "\n",
    "Work through of LeNet\n",
    "- http://deeplearning.net/tutorial/lenet.html\n",
    "\n",
    "### Talks and longer videos\n",
    "Machine learning without a PhD video (2hour 30min) starts with a nice break down of the MNISt classification with CNNs\n",
    "- https://youtu.be/vq2nnJ4g6N0?t=186\n",
    "\n",
    "Yann Lecun (Pinoneer of CNNs), talking on the limitations and possibilities (more fluffy than technical)\n",
    "- https://www.youtube.com/watch?v=0tEhw5t6rhc\n",
    "\n",
    "Geoffry Hinton on \"What is wrong with CNNS\"\n",
    "- https://www.youtube.com/watch?v=rTawFwUvnLE\n",
    "\n",
    "Andrew NG (2013) Deep Learning, Self-Taught Learning and Unsupervised Feature Learning \n",
    "- This has a lot of nice visual explinations https://www.youtube.com/watch?v=n1ViNeWhC24\n"
   ]
  },
  {
   "cell_type": "markdown",
   "metadata": {},
   "source": [
    "# Complimentary networks and ideas\n",
    "Below are possible models or features that could be used with CNNs, or use CNNs as a sub-component. Furthur these models as derived furthur by neuroscientists.  \n",
    "\n",
    "# GAN\n",
    "https://github.com/yihui-he/GAN-MNIST\n",
    "https://github.com/znxlwm/tensorflow-MNIST-GAN-DCGAN\n",
    "\n",
    "\n",
    "# I2A\n",
    "Imagination-Augmented Agents\n",
    "for Deep Reinforcement Learning\n",
    "\n",
    "https://arxiv.org/pdf/1707.06203.pdf\n",
    "\n",
    "# Interaction networks\n",
    "Interaction Networks for Learning about Objects, Relations and Physics\n",
    "\n",
    "https://arxiv.org/abs/1612.00222\n",
    "\n",
    "Visual Interaction Networks\n",
    "\n",
    "https://arxiv.org/abs/1706.01433\n",
    "\n",
    "https://blog.acolyer.org/2017/01/02/interaction-networks-for-learning-about-objects-relations-and-physics/\n",
    "\n",
    "Tensorflow implimentaion \n",
    "https://github.com/jaesik817/Interaction-networks_tensorflow"
   ]
  },
  {
   "cell_type": "markdown",
   "metadata": {},
   "source": [
    "## This is 2nd heading in MD\n",
    "This is **s**ome stuff\n",
    "_This_ `is` **~~more~~** __stuff__\n",
    "\n",
    "### level 3 unlocked\n",
    "Quotes for days?\n",
    ">NP -Bro\n",
    "are\n",
    "- you\n",
    "- for \n",
    "  - real\n",
    "Also images\n",
    "![title](img/picture.png)\n",
    "\n",
    "\n",
    "\n"
   ]
  },
  {
   "cell_type": "code",
   "execution_count": 6,
   "metadata": {
    "scrolled": true
   },
   "outputs": [
    {
     "name": "stdout",
     "output_type": "stream",
     "text": [
      "Hello World you can run things inline with jupyter - cool!\n"
     ]
    }
   ],
   "source": [
    "print \"Hello World you can run things inline with jupyter - cool!\""
   ]
  },
  {
   "cell_type": "markdown",
   "metadata": {},
   "source": []
  },
  {
   "cell_type": "code",
   "execution_count": null,
   "metadata": {},
   "outputs": [],
   "source": []
  },
  {
   "cell_type": "code",
   "execution_count": null,
   "metadata": {},
   "outputs": [],
   "source": []
  }
 ],
 "metadata": {
  "celltoolbar": "Slideshow",
  "kernelspec": {
   "display_name": "Python 2",
   "language": "python",
   "name": "python2"
  },
  "language_info": {
   "codemirror_mode": {
    "name": "ipython",
    "version": 2
   },
   "file_extension": ".py",
   "mimetype": "text/x-python",
   "name": "python",
   "nbconvert_exporter": "python",
   "pygments_lexer": "ipython2",
   "version": "2.7.13"
  }
 },
 "nbformat": 4,
 "nbformat_minor": 2
}
